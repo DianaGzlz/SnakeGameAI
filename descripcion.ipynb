{
 "cells": [
  {
   "cell_type": "markdown",
   "metadata": {},
   "source": [
    "# Play Snake AI\n",
    "La AI debe aprender por puntuación:\n",
    "* Comida: +10\n",
    "* Perder: -10\n",
    "* Else: 0\n",
    "\n",
    "Tiene 3 movimientos:\n",
    "* Recto [1,0,0]\n",
    "* Giro a la derecha [0,1,0]\n",
    "* Giro a la izquierda [0,0,1]\n",
    "\n",
    "Tiene que identificar los estados posibles(bool):\n",
    "1. Peligro recto\n",
    "2. Peligro derecha\n",
    "3. Peligro Izquierda\n",
    "4. Dirección Izquierda\n",
    "5. Dirección Derecha\n",
    "6. Dirección arriba\n",
    "7. Dirección abajo\n",
    "8. Comida izquierda\n",
    "9. Comida derecha\n",
    "10. Comida arriba\n",
    "11. Comida abajo\n",
    "\n",
    "### Ejemplo sn1:\n",
    "[0,0,0,0,1,0,0,0,1,0,1]\n",
    "\n",
    "\n",
    "## Diseño de modelo\n",
    "* Reinforcement Learning: Variante de ML que evalúa la capacidad de un agente de software de tomar acciones en un entorno con el fin de maximizar una recompensa acumulativa\n",
    "* Deep Q Learning: Usa modelos de Deep Learning para aplicar RL predicciendo las acciones del modelo\n",
    "\n",
    "Entrada: El estado del modelo (1x11)\n",
    "Modelo: Capas ocultas\n",
    "Salida: movimiento en respuesta (1x3)\n",
    "\n",
    "0. Init Q Value(= init model)\n",
    "1. Elegir movimiento (model.predict(state)) o movimiento random\n",
    "2. Ejecutar acción\n",
    "3. Gestionar recompensa\n",
    "4. Atualizar Q value (regresar a 0, + train model) \n",
    "\n",
    "### _Sustento matemático: Ecuación de Bellman_ \n",
    "* Q = model.predict(state0)\n",
    "* Qn  = R + (lambda*max(Q(state1)))\n",
    "* loss = (Qn - Q)**2  _Mean Squared Error_\n",
    "\n"
   ]
  },
  {
   "cell_type": "markdown",
   "metadata": {},
   "source": [
    "## Parte 1 Implementar juego\n",
    "\n",
    "### cmd:\n",
    "*Crear entorno virtual con conda*\n",
    "conda create -n pygame_env python=3.9\n",
    "\n",
    "conda activate pygame_env\n",
    "\n",
    "pip install pygame\n",
    "\n",
    "\n",
    "*Ahora instalamos pytorch*\n",
    "https://pytorch.org/\n",
    "pip install torch torchvision torchaudio\n",
    "\n",
    "*Ahora instalamos matplotlib*\n",
    "pip install matplotlib ipython\n",
    "\n",
    "## Y ahora el juego en python\n",
    "* cmd\n",
    "\n",
    "cd ruta\n",
    "* cd C:\\Users\\diana\\Documents\\IA_VIDEOJUEGOS\\Snake\n",
    "* cd C:/Users/diana/Documents/IA_VIDEOJUEGOS/Snake #conda\n",
    "* python snake_game.py\n",
    "\n"
   ]
  },
  {
   "cell_type": "markdown",
   "metadata": {},
   "source": [
    "## Parte 2\n",
    "Ahora hay que modificar el codigo que usara la IA, donde deberan agregarse los estados y las acciones del modelo\n",
    "\n",
    "* reset\n",
    "* reward\n",
    "* play(action) -> direction\n",
    "* game_iteration\n",
    "* is_collition"
   ]
  },
  {
   "cell_type": "markdown",
   "metadata": {},
   "source": [
    "## Parte 3: Union de juego con lo que sera la IA\n",
    "\n",
    "agent.py\n",
    "\n",
    "## Parte 4: Modelo\n",
    "\n",
    "model.py\n",
    "\n",
    "\n",
    "## Ahora a correr\n",
    "cd C:\\Users\\diana\\Documents\\IA_VIDEOJUEGOS\\Snake\n",
    "\n",
    "python agent.py"
   ]
  },
  {
   "cell_type": "code",
   "execution_count": null,
   "metadata": {},
   "outputs": [],
   "source": [
    "\n",
    "\n"
   ]
  }
 ],
 "metadata": {
  "kernelspec": {
   "display_name": "Python 3",
   "language": "python",
   "name": "python3"
  },
  "language_info": {
   "codemirror_mode": {
    "name": "ipython",
    "version": 3
   },
   "file_extension": ".py",
   "mimetype": "text/x-python",
   "name": "python",
   "nbconvert_exporter": "python",
   "pygments_lexer": "ipython3",
   "version": "3.9.13"
  }
 },
 "nbformat": 4,
 "nbformat_minor": 2
}
